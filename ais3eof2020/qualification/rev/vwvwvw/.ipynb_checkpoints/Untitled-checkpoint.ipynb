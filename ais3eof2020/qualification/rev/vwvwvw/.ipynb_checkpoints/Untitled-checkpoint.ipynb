{
 "cells": [
  {
   "cell_type": "code",
   "execution_count": null,
   "metadata": {},
   "outputs": [
    {
     "name": "stderr",
     "output_type": "stream",
     "text": [
      "INFO    | 2020-01-12 16:32:33,686 | \u001b[34mangr.project\u001b[0m | \u001b[34mLoading binary ./verify\u001b[0m\n",
      "INFO    | 2020-01-12 16:32:33,704 | \u001b[34mangr.project\u001b[0m | \u001b[34mUsing builtin SimProcedure for unresolved strlen from libc.so.0\u001b[0m\n",
      "DEBUG   | 2020-01-12 16:32:33,705 | \u001b[34mangr.project\u001b[0m | \u001b[34mhooking 0x1000000 with <SimProcedure strlen>\u001b[0m\n",
      "INFO    | 2020-01-12 16:32:33,705 | \u001b[34mangr.project\u001b[0m | \u001b[34mUsing builtin SimProcedure for unresolved printf from libc.so.0\u001b[0m\n",
      "DEBUG   | 2020-01-12 16:32:33,706 | \u001b[34mangr.project\u001b[0m | \u001b[34mhooking 0x1000008 with <SimProcedure printf>\u001b[0m\n",
      "INFO    | 2020-01-12 16:32:33,706 | \u001b[34mangr.project\u001b[0m | \u001b[34mUsing builtin SimProcedure for unresolved __libc_start_main from libc.so.0\u001b[0m\n",
      "DEBUG   | 2020-01-12 16:32:33,707 | \u001b[34mangr.project\u001b[0m | \u001b[34mhooking 0x1000010 with <SimProcedure __libc_start_main>\u001b[0m\n",
      "INFO    | 2020-01-12 16:32:33,708 | \u001b[34mangr.project\u001b[0m | \u001b[34mUsing builtin SimProcedure for unresolved memcmp from libc.so.0\u001b[0m\n",
      "DEBUG   | 2020-01-12 16:32:33,708 | \u001b[34mangr.project\u001b[0m | \u001b[34mhooking 0x1000018 with <SimProcedure memcmp>\u001b[0m\n",
      "INFO    | 2020-01-12 16:32:33,709 | \u001b[34mangr.project\u001b[0m | \u001b[34mUsing builtin SimProcedure for unresolved malloc from libc.so.0\u001b[0m\n",
      "DEBUG   | 2020-01-12 16:32:33,709 | \u001b[34mangr.project\u001b[0m | \u001b[34mhooking 0x1000020 with <SimProcedure malloc>\u001b[0m\n",
      "DEBUG   | 2020-01-12 16:32:33,710 | \u001b[34mangr.project\u001b[0m | \u001b[34mhooking 0x1000028 with <SimProcedure LinuxLoader>\u001b[0m\n",
      "DEBUG   | 2020-01-12 16:32:33,711 | \u001b[34mangr.project\u001b[0m | \u001b[34mhooking 0x1000030 with <SimProcedure _dl_rtld_lock_recursive>\u001b[0m\n",
      "DEBUG   | 2020-01-12 16:32:33,711 | \u001b[34mangr.project\u001b[0m | \u001b[34mhooking 0x1000038 with <SimProcedure _dl_rtld_unlock_recursive>\u001b[0m\n",
      "DEBUG   | 2020-01-12 16:32:33,712 | \u001b[34mangr.project\u001b[0m | \u001b[34mhooking 0x1000040 with <SimProcedure _dl_initial_error_catch_tsd>\u001b[0m\n",
      "DEBUG   | 2020-01-12 16:32:33,712 | \u001b[34mangr.project\u001b[0m | \u001b[34mhooking 0x1000048 with <SimProcedure _vsyscall>\u001b[0m\n",
      "DEBUG   | 2020-01-12 16:32:33,713 | \u001b[34mangr.project\u001b[0m | \u001b[34mhooking 0x1000058 with <SimProcedure CallReturn>\u001b[0m\n",
      "DEBUG   | 2020-01-12 16:32:33,714 | \u001b[34mangr.project\u001b[0m | \u001b[34mhooking 0x1000060 with <SimProcedure UnresolvableJumpTarget>\u001b[0m\n",
      "DEBUG   | 2020-01-12 16:32:33,714 | \u001b[34mangr.project\u001b[0m | \u001b[34mhooking 0x1000068 with <SimProcedure UnresolvableCallTarget>\u001b[0m\n",
      "WARNING | 2020-01-12 16:32:33,731 | \u001b[37mclaripy.ast.bv\u001b[0m | \u001b[37mBVV value is being coerced from a unicode string, encoding as utf-8\u001b[0m\n",
      "WARNING | 2020-01-12 16:32:33,732 | \u001b[37mclaripy.ast.bv\u001b[0m | \u001b[37mBVV value is being coerced from a unicode string, encoding as utf-8\u001b[0m\n",
      "WARNING | 2020-01-12 16:32:33,733 | \u001b[37mclaripy.ast.bv\u001b[0m | \u001b[37mBVV value is being coerced from a unicode string, encoding as utf-8\u001b[0m\n",
      "WARNING | 2020-01-12 16:32:33,734 | \u001b[37mclaripy.ast.bv\u001b[0m | \u001b[37mBVV value is being coerced from a unicode string, encoding as utf-8\u001b[0m\n",
      "WARNING | 2020-01-12 16:32:33,735 | \u001b[37mclaripy.ast.bv\u001b[0m | \u001b[37mBVV value is being coerced from a unicode string, encoding as utf-8\u001b[0m\n",
      "WARNING | 2020-01-12 16:32:33,739 | \u001b[37mclaripy.ast.bv\u001b[0m | \u001b[37mBVV value is being coerced from a unicode string, encoding as utf-8\u001b[0m\n",
      "DEBUG   | 2020-01-12 16:32:34,032 | \u001b[34mangr.project\u001b[0m | \u001b[34mhooking 0x1000070 with <SimProcedure __libc_start_main (cont: after_init)>\u001b[0m\n",
      "DEBUG   | 2020-01-12 16:32:34,124 | \u001b[34mangr.project\u001b[0m | \u001b[34mhooking 0x1000078 with <SimProcedure __libc_start_main (cont: after_main)>\u001b[0m\n",
      "WARNING | 2020-01-12 16:32:34,162 | \u001b[32mangr.state_plugins.symbolic_memory\u001b[0m | \u001b[32mFilling memory at 0x7fffffffffefff8 with 193 unconstrained bytes referenced from 0x1000000 (strlen+0x0 in extern-address space (0x0))\u001b[0m\n",
      "WARNING | 2020-01-12 16:32:39,131 | \u001b[32mangr.state_plugins.symbolic_memory\u001b[0m | \u001b[32mFilling memory at 0xc0000f40 with 224 unconstrained bytes referenced from 0x1000000 (strlen+0x0 in extern-address space (0x0))\u001b[0m\n",
      "WARNING | 2020-01-12 16:32:41,221 | \u001b[32mangr.state_plugins.symbolic_memory\u001b[0m | \u001b[32mFilling memory at 0xc0000f40 with 224 unconstrained bytes referenced from 0x1000000 (strlen+0x0 in extern-address space (0x0))\u001b[0m\n",
      "WARNING | 2020-01-12 16:32:43,691 | \u001b[32mangr.state_plugins.symbolic_memory\u001b[0m | \u001b[32mFilling memory at 0xc0000f40 with 224 unconstrained bytes referenced from 0x1000000 (strlen+0x0 in extern-address space (0x0))\u001b[0m\n",
      "WARNING | 2020-01-12 16:32:46,114 | \u001b[32mangr.state_plugins.symbolic_memory\u001b[0m | \u001b[32mFilling memory at 0xc0000f40 with 224 unconstrained bytes referenced from 0x1000000 (strlen+0x0 in extern-address space (0x0))\u001b[0m\n",
      "WARNING | 2020-01-12 16:32:48,928 | \u001b[32mangr.state_plugins.symbolic_memory\u001b[0m | \u001b[32mFilling memory at 0xc0000f40 with 224 unconstrained bytes referenced from 0x1000000 (strlen+0x0 in extern-address space (0x0))\u001b[0m\n",
      "WARNING | 2020-01-12 16:32:51,819 | \u001b[32mangr.state_plugins.symbolic_memory\u001b[0m | \u001b[32mFilling memory at 0xc0000f40 with 224 unconstrained bytes referenced from 0x1000000 (strlen+0x0 in extern-address space (0x0))\u001b[0m\n",
      "WARNING | 2020-01-12 16:33:26,845 | \u001b[32mangr.state_plugins.symbolic_memory\u001b[0m | \u001b[32mFilling memory at 0xc0000f40 with 224 unconstrained bytes referenced from 0x1000000 (strlen+0x0 in extern-address space (0x0))\u001b[0m\n",
      "WARNING | 2020-01-12 16:33:30,526 | \u001b[32mangr.state_plugins.symbolic_memory\u001b[0m | \u001b[32mFilling memory at 0xc0000f40 with 224 unconstrained bytes referenced from 0x1000000 (strlen+0x0 in extern-address space (0x0))\u001b[0m\n",
      "WARNING | 2020-01-12 16:33:34,417 | \u001b[32mangr.state_plugins.symbolic_memory\u001b[0m | \u001b[32mFilling memory at 0xc0000f40 with 224 unconstrained bytes referenced from 0x1000000 (strlen+0x0 in extern-address space (0x0))\u001b[0m\n",
      "WARNING | 2020-01-12 16:33:38,557 | \u001b[32mangr.state_plugins.symbolic_memory\u001b[0m | \u001b[32mFilling memory at 0xc0000f40 with 224 unconstrained bytes referenced from 0x1000000 (strlen+0x0 in extern-address space (0x0))\u001b[0m\n",
      "WARNING | 2020-01-12 16:33:42,873 | \u001b[32mangr.state_plugins.symbolic_memory\u001b[0m | \u001b[32mFilling memory at 0xc0000f40 with 224 unconstrained bytes referenced from 0x1000000 (strlen+0x0 in extern-address space (0x0))\u001b[0m\n",
      "WARNING | 2020-01-12 16:33:49,043 | \u001b[32mangr.state_plugins.symbolic_memory\u001b[0m | \u001b[32mFilling memory at 0xc0000f40 with 224 unconstrained bytes referenced from 0x1000000 (strlen+0x0 in extern-address space (0x0))\u001b[0m\n",
      "WARNING | 2020-01-12 16:33:54,125 | \u001b[32mangr.state_plugins.symbolic_memory\u001b[0m | \u001b[32mFilling memory at 0xc0000f40 with 224 unconstrained bytes referenced from 0x1000000 (strlen+0x0 in extern-address space (0x0))\u001b[0m\n",
      "WARNING | 2020-01-12 16:33:59,747 | \u001b[32mangr.state_plugins.symbolic_memory\u001b[0m | \u001b[32mFilling memory at 0xc0000f40 with 224 unconstrained bytes referenced from 0x1000000 (strlen+0x0 in extern-address space (0x0))\u001b[0m\n",
      "WARNING | 2020-01-12 16:34:05,296 | \u001b[32mangr.state_plugins.symbolic_memory\u001b[0m | \u001b[32mFilling memory at 0xc0000f40 with 224 unconstrained bytes referenced from 0x1000000 (strlen+0x0 in extern-address space (0x0))\u001b[0m\n",
      "WARNING | 2020-01-12 16:34:10,937 | \u001b[32mangr.state_plugins.symbolic_memory\u001b[0m | \u001b[32mFilling memory at 0xc0000f40 with 224 unconstrained bytes referenced from 0x1000000 (strlen+0x0 in extern-address space (0x0))\u001b[0m\n",
      "WARNING | 2020-01-12 16:34:17,008 | \u001b[32mangr.state_plugins.symbolic_memory\u001b[0m | \u001b[32mFilling memory at 0xc0000f40 with 224 unconstrained bytes referenced from 0x1000000 (strlen+0x0 in extern-address space (0x0))\u001b[0m\n",
      "WARNING | 2020-01-12 16:34:22,706 | \u001b[32mangr.state_plugins.symbolic_memory\u001b[0m | \u001b[32mFilling memory at 0xc0000f40 with 224 unconstrained bytes referenced from 0x1000000 (strlen+0x0 in extern-address space (0x0))\u001b[0m\n",
      "WARNING | 2020-01-12 16:34:28,129 | \u001b[32mangr.state_plugins.symbolic_memory\u001b[0m | \u001b[32mFilling memory at 0xc0000f40 with 224 unconstrained bytes referenced from 0x1000000 (strlen+0x0 in extern-address space (0x0))\u001b[0m\n"
     ]
    }
   ],
   "source": [
    "import sys\n",
    "sys.path.append('/home/soyccan/.local/share/virtualenvs/vwvwvw-SJfVni3y/lib/python3.6/site-packages/')\n",
    "\n",
    "import angr\n",
    "import claripy\n",
    "\n",
    "angr.l.setLevel('DEBUG')\n",
    "p = angr.Project('./verify', load_options={\"auto_load_libs\": False})\n",
    "\n",
    "args = claripy.BVS('args', 8*24)\n",
    "initial_state = p.factory.entry_state(args=[p.filename, args], add_options={'BYPASS_UNSUPPORTED_SYSCALL'})\n",
    "\n",
    "prefix = 'FLAG{'\n",
    "for i, b in enumerate(args.chop(8)):\n",
    "    initial_state.add_constraints(b >= 0x21, b <= 0x7e)\n",
    "    if i < len(prefix):\n",
    "        initial_state.add_constraints(b == prefix[i])\n",
    "    if i == 23:\n",
    "        initial_state.add_constraints(b == '}')\n",
    "\n",
    "\n",
    "pg = p.factory.simulation_manager(initial_state)\n",
    "pg.explore(find=0x401ada, avoid=(0x401ac1))\n",
    "print(pg)\n",
    "\n",
    "#print(pg.found[0].posix.dumps(0).strip('\\0\\n'))\n",
    "#args_str = pg.found[0].state.se.any_str(args)\n",
    "#stdin = f.state.posix.dumps(0)\n",
    "#ans = pg.found[0].state.se._solver.result.model\n",
    "#print(ans)\n",
    "print(pg.found[0].solver.eval(args))\n"
   ]
  },
  {
   "cell_type": "code",
   "execution_count": null,
   "metadata": {},
   "outputs": [],
   "source": []
  }
 ],
 "metadata": {
  "kernelspec": {
   "display_name": "Python 3",
   "language": "python",
   "name": "python3"
  },
  "language_info": {
   "codemirror_mode": {
    "name": "ipython",
    "version": 3
   },
   "file_extension": ".py",
   "mimetype": "text/x-python",
   "name": "python",
   "nbconvert_exporter": "python",
   "pygments_lexer": "ipython3",
   "version": "3.6.8"
  }
 },
 "nbformat": 4,
 "nbformat_minor": 2
}
