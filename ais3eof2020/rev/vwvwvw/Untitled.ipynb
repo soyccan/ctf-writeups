{
 "cells": [
  {
   "cell_type": "code",
   "execution_count": 15,
   "metadata": {},
   "outputs": [
    {
     "name": "stderr",
     "output_type": "stream",
     "text": [
      "INFO    | 2020-01-12 16:42:46,739 | \u001b[34mangr.project\u001b[0m | \u001b[34mLoading binary ./verify\u001b[0m\n",
      "INFO    | 2020-01-12 16:42:46,758 | \u001b[34mangr.project\u001b[0m | \u001b[34mUsing builtin SimProcedure for unresolved strlen from libc.so.0\u001b[0m\n",
      "DEBUG   | 2020-01-12 16:42:46,759 | \u001b[34mangr.project\u001b[0m | \u001b[34mhooking 0x1000000 with <SimProcedure strlen>\u001b[0m\n",
      "INFO    | 2020-01-12 16:42:46,760 | \u001b[34mangr.project\u001b[0m | \u001b[34mUsing builtin SimProcedure for unresolved printf from libc.so.0\u001b[0m\n",
      "DEBUG   | 2020-01-12 16:42:46,761 | \u001b[34mangr.project\u001b[0m | \u001b[34mhooking 0x1000008 with <SimProcedure printf>\u001b[0m\n",
      "INFO    | 2020-01-12 16:42:46,762 | \u001b[34mangr.project\u001b[0m | \u001b[34mUsing builtin SimProcedure for unresolved __libc_start_main from libc.so.0\u001b[0m\n",
      "DEBUG   | 2020-01-12 16:42:46,763 | \u001b[34mangr.project\u001b[0m | \u001b[34mhooking 0x1000010 with <SimProcedure __libc_start_main>\u001b[0m\n",
      "INFO    | 2020-01-12 16:42:46,763 | \u001b[34mangr.project\u001b[0m | \u001b[34mUsing builtin SimProcedure for unresolved memcmp from libc.so.0\u001b[0m\n",
      "DEBUG   | 2020-01-12 16:42:46,764 | \u001b[34mangr.project\u001b[0m | \u001b[34mhooking 0x1000018 with <SimProcedure memcmp>\u001b[0m\n",
      "INFO    | 2020-01-12 16:42:46,765 | \u001b[34mangr.project\u001b[0m | \u001b[34mUsing builtin SimProcedure for unresolved malloc from libc.so.0\u001b[0m\n",
      "DEBUG   | 2020-01-12 16:42:46,765 | \u001b[34mangr.project\u001b[0m | \u001b[34mhooking 0x1000020 with <SimProcedure malloc>\u001b[0m\n",
      "DEBUG   | 2020-01-12 16:42:46,766 | \u001b[34mangr.project\u001b[0m | \u001b[34mhooking 0x1000028 with <SimProcedure LinuxLoader>\u001b[0m\n",
      "DEBUG   | 2020-01-12 16:42:46,766 | \u001b[34mangr.project\u001b[0m | \u001b[34mhooking 0x1000030 with <SimProcedure _dl_rtld_lock_recursive>\u001b[0m\n",
      "DEBUG   | 2020-01-12 16:42:46,767 | \u001b[34mangr.project\u001b[0m | \u001b[34mhooking 0x1000038 with <SimProcedure _dl_rtld_unlock_recursive>\u001b[0m\n",
      "DEBUG   | 2020-01-12 16:42:46,768 | \u001b[34mangr.project\u001b[0m | \u001b[34mhooking 0x1000040 with <SimProcedure _dl_initial_error_catch_tsd>\u001b[0m\n",
      "DEBUG   | 2020-01-12 16:42:46,768 | \u001b[34mangr.project\u001b[0m | \u001b[34mhooking 0x1000048 with <SimProcedure _vsyscall>\u001b[0m\n",
      "DEBUG   | 2020-01-12 16:42:46,769 | \u001b[34mangr.project\u001b[0m | \u001b[34mhooking 0x1000058 with <SimProcedure CallReturn>\u001b[0m\n",
      "DEBUG   | 2020-01-12 16:42:46,770 | \u001b[34mangr.project\u001b[0m | \u001b[34mhooking 0x1000060 with <SimProcedure UnresolvableJumpTarget>\u001b[0m\n",
      "DEBUG   | 2020-01-12 16:42:46,770 | \u001b[34mangr.project\u001b[0m | \u001b[34mhooking 0x1000068 with <SimProcedure UnresolvableCallTarget>\u001b[0m\n",
      "DEBUG   | 2020-01-12 16:42:47,098 | \u001b[34mangr.project\u001b[0m | \u001b[34mhooking 0x1000070 with <SimProcedure __libc_start_main (cont: after_init)>\u001b[0m\n",
      "DEBUG   | 2020-01-12 16:42:47,190 | \u001b[34mangr.project\u001b[0m | \u001b[34mhooking 0x1000078 with <SimProcedure __libc_start_main (cont: after_main)>\u001b[0m\n",
      "WARNING | 2020-01-12 16:42:47,229 | \u001b[32mangr.state_plugins.symbolic_memory\u001b[0m | \u001b[32mFilling memory at 0x7fffffffffefff8 with 193 unconstrained bytes referenced from 0x1000000 (strlen+0x0 in extern-address space (0x0))\u001b[0m\n",
      "WARNING | 2020-01-12 16:42:51,552 | \u001b[32mangr.state_plugins.symbolic_memory\u001b[0m | \u001b[32mFilling memory at 0xc0000f40 with 224 unconstrained bytes referenced from 0x1000000 (strlen+0x0 in extern-address space (0x0))\u001b[0m\n",
      "WARNING | 2020-01-12 16:42:53,764 | \u001b[32mangr.state_plugins.symbolic_memory\u001b[0m | \u001b[32mFilling memory at 0xc0000f40 with 224 unconstrained bytes referenced from 0x1000000 (strlen+0x0 in extern-address space (0x0))\u001b[0m\n",
      "WARNING | 2020-01-12 16:42:55,986 | \u001b[32mangr.state_plugins.symbolic_memory\u001b[0m | \u001b[32mFilling memory at 0xc0000f40 with 224 unconstrained bytes referenced from 0x1000000 (strlen+0x0 in extern-address space (0x0))\u001b[0m\n",
      "WARNING | 2020-01-12 16:42:59,129 | \u001b[32mangr.state_plugins.symbolic_memory\u001b[0m | \u001b[32mFilling memory at 0xc0000f40 with 224 unconstrained bytes referenced from 0x1000000 (strlen+0x0 in extern-address space (0x0))\u001b[0m\n",
      "WARNING | 2020-01-12 16:43:01,845 | \u001b[32mangr.state_plugins.symbolic_memory\u001b[0m | \u001b[32mFilling memory at 0xc0000f40 with 224 unconstrained bytes referenced from 0x1000000 (strlen+0x0 in extern-address space (0x0))\u001b[0m\n",
      "WARNING | 2020-01-12 16:43:04,798 | \u001b[32mangr.state_plugins.symbolic_memory\u001b[0m | \u001b[32mFilling memory at 0xc0000f40 with 224 unconstrained bytes referenced from 0x1000000 (strlen+0x0 in extern-address space (0x0))\u001b[0m\n",
      "WARNING | 2020-01-12 16:43:07,805 | \u001b[32mangr.state_plugins.symbolic_memory\u001b[0m | \u001b[32mFilling memory at 0xc0000f40 with 224 unconstrained bytes referenced from 0x1000000 (strlen+0x0 in extern-address space (0x0))\u001b[0m\n",
      "WARNING | 2020-01-12 16:43:11,079 | \u001b[32mangr.state_plugins.symbolic_memory\u001b[0m | \u001b[32mFilling memory at 0xc0000f40 with 224 unconstrained bytes referenced from 0x1000000 (strlen+0x0 in extern-address space (0x0))\u001b[0m\n",
      "WARNING | 2020-01-12 16:43:14,583 | \u001b[32mangr.state_plugins.symbolic_memory\u001b[0m | \u001b[32mFilling memory at 0xc0000f40 with 224 unconstrained bytes referenced from 0x1000000 (strlen+0x0 in extern-address space (0x0))\u001b[0m\n",
      "WARNING | 2020-01-12 16:43:18,306 | \u001b[32mangr.state_plugins.symbolic_memory\u001b[0m | \u001b[32mFilling memory at 0xc0000f40 with 224 unconstrained bytes referenced from 0x1000000 (strlen+0x0 in extern-address space (0x0))\u001b[0m\n",
      "WARNING | 2020-01-12 16:43:22,230 | \u001b[32mangr.state_plugins.symbolic_memory\u001b[0m | \u001b[32mFilling memory at 0xc0000f40 with 224 unconstrained bytes referenced from 0x1000000 (strlen+0x0 in extern-address space (0x0))\u001b[0m\n",
      "WARNING | 2020-01-12 16:43:26,355 | \u001b[32mangr.state_plugins.symbolic_memory\u001b[0m | \u001b[32mFilling memory at 0xc0000f40 with 224 unconstrained bytes referenced from 0x1000000 (strlen+0x0 in extern-address space (0x0))\u001b[0m\n",
      "WARNING | 2020-01-12 16:43:30,776 | \u001b[32mangr.state_plugins.symbolic_memory\u001b[0m | \u001b[32mFilling memory at 0xc0000f40 with 224 unconstrained bytes referenced from 0x1000000 (strlen+0x0 in extern-address space (0x0))\u001b[0m\n",
      "WARNING | 2020-01-12 16:43:35,444 | \u001b[32mangr.state_plugins.symbolic_memory\u001b[0m | \u001b[32mFilling memory at 0xc0000f40 with 224 unconstrained bytes referenced from 0x1000000 (strlen+0x0 in extern-address space (0x0))\u001b[0m\n",
      "WARNING | 2020-01-12 16:43:40,211 | \u001b[32mangr.state_plugins.symbolic_memory\u001b[0m | \u001b[32mFilling memory at 0xc0000f40 with 224 unconstrained bytes referenced from 0x1000000 (strlen+0x0 in extern-address space (0x0))\u001b[0m\n",
      "WARNING | 2020-01-12 16:43:45,314 | \u001b[32mangr.state_plugins.symbolic_memory\u001b[0m | \u001b[32mFilling memory at 0xc0000f40 with 224 unconstrained bytes referenced from 0x1000000 (strlen+0x0 in extern-address space (0x0))\u001b[0m\n",
      "WARNING | 2020-01-12 16:43:50,600 | \u001b[32mangr.state_plugins.symbolic_memory\u001b[0m | \u001b[32mFilling memory at 0xc0000f40 with 224 unconstrained bytes referenced from 0x1000000 (strlen+0x0 in extern-address space (0x0))\u001b[0m\n",
      "WARNING | 2020-01-12 16:43:56,924 | \u001b[32mangr.state_plugins.symbolic_memory\u001b[0m | \u001b[32mFilling memory at 0xc0000f40 with 224 unconstrained bytes referenced from 0x1000000 (strlen+0x0 in extern-address space (0x0))\u001b[0m\n",
      "WARNING | 2020-01-12 16:44:02,672 | \u001b[32mangr.state_plugins.symbolic_memory\u001b[0m | \u001b[32mFilling memory at 0xc0000f40 with 224 unconstrained bytes referenced from 0x1000000 (strlen+0x0 in extern-address space (0x0))\u001b[0m\n",
      "WARNING | 2020-01-12 16:44:08,737 | \u001b[32mangr.state_plugins.symbolic_memory\u001b[0m | \u001b[32mFilling memory at 0xc0000f40 with 224 unconstrained bytes referenced from 0x1000000 (strlen+0x0 in extern-address space (0x0))\u001b[0m\n",
      "WARNING | 2020-01-12 16:44:15,720 | \u001b[32mangr.state_plugins.symbolic_memory\u001b[0m | \u001b[32mFilling memory at 0xc0000f40 with 224 unconstrained bytes referenced from 0x1000000 (strlen+0x0 in extern-address space (0x0))\u001b[0m\n",
      "WARNING | 2020-01-12 16:44:23,574 | \u001b[32mangr.state_plugins.symbolic_memory\u001b[0m | \u001b[32mFilling memory at 0xc0000f40 with 224 unconstrained bytes referenced from 0x1000000 (strlen+0x0 in extern-address space (0x0))\u001b[0m\n",
      "WARNING | 2020-01-12 16:44:31,795 | \u001b[32mangr.state_plugins.symbolic_memory\u001b[0m | \u001b[32mFilling memory at 0xc0000f40 with 224 unconstrained bytes referenced from 0x1000000 (strlen+0x0 in extern-address space (0x0))\u001b[0m\n",
      "WARNING | 2020-01-12 16:44:40,754 | \u001b[32mangr.state_plugins.symbolic_memory\u001b[0m | \u001b[32mFilling memory at 0xc0000f40 with 224 unconstrained bytes referenced from 0x1000000 (strlen+0x0 in extern-address space (0x0))\u001b[0m\n"
     ]
    },
    {
     "name": "stdout",
     "output_type": "stream",
     "text": [
      "<SimulationManager with 43 active, 436 deadended, 1 found>\n",
      "b'7h1s15justAbase64enc0d3!'\n"
     ]
    }
   ],
   "source": [
    "import sys\n",
    "sys.path.append('/home/soyccan/.local/share/virtualenvs/vwvwvw-SJfVni3y/lib/python3.6/site-packages/')\n",
    "\n",
    "import angr\n",
    "import claripy\n",
    "\n",
    "angr.l.setLevel('DEBUG')\n",
    "p = angr.Project('./verify', load_options={\"auto_load_libs\": False})\n",
    "\n",
    "args = claripy.BVS('args', 8*24)\n",
    "initial_state = p.factory.entry_state(args=[p.filename, args], add_options={'BYPASS_UNSUPPORTED_SYSCALL'})\n",
    "\n",
    "prefix = 'FLAG{'\n",
    "for i, b in enumerate(args.chop(8)):\n",
    "    initial_state.add_constraints(b >= 0x21, b <= 0x7e)\n",
    "#    if i < len(prefix):\n",
    "#        initial_state.add_constraints(b == prefix[i])\n",
    "#    if i == 23:\n",
    "#        initial_state.add_constraints(b == '}')\n",
    "\n",
    "\n",
    "pg = p.factory.simulation_manager(initial_state)\n",
    "pg.explore(find=[0x4022cb], avoid=[])\n",
    "print(pg)\n",
    "\n",
    "#print(pg.found[0].posix.dumps(0).strip('\\0\\n'))\n",
    "#args_str = pg.found[0].state.se.any_str(args)\n",
    "#stdin = f.state.posix.dumps(0)\n",
    "#ans = pg.found[0].state.se._solver.result.model\n",
    "#print(ans)\n",
    "print(pg.found[0].solver.eval(args, cast_to=bytes))\n"
   ]
  },
  {
   "cell_type": "code",
   "execution_count": null,
   "metadata": {},
   "outputs": [],
   "source": []
  },
  {
   "cell_type": "code",
   "execution_count": null,
   "metadata": {},
   "outputs": [],
   "source": []
  },
  {
   "cell_type": "code",
   "execution_count": null,
   "metadata": {},
   "outputs": [],
   "source": []
  },
  {
   "cell_type": "code",
   "execution_count": null,
   "metadata": {},
   "outputs": [],
   "source": []
  }
 ],
 "metadata": {
  "kernelspec": {
   "display_name": "Python 3",
   "language": "python",
   "name": "python3"
  },
  "language_info": {
   "codemirror_mode": {
    "name": "ipython",
    "version": 3
   },
   "file_extension": ".py",
   "mimetype": "text/x-python",
   "name": "python",
   "nbconvert_exporter": "python",
   "pygments_lexer": "ipython3",
   "version": "3.6.8"
  }
 },
 "nbformat": 4,
 "nbformat_minor": 2
}
